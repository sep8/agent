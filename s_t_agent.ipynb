{
 "cells": [
  {
   "cell_type": "code",
   "execution_count": 1,
   "metadata": {},
   "outputs": [
    {
     "data": {
      "text/plain": [
       "True"
      ]
     },
     "execution_count": 1,
     "metadata": {},
     "output_type": "execute_result"
    }
   ],
   "source": [
    "from agents.structured_chat import StructuredChatAgent\n",
    "from tools.base import Tool\n",
    "from dotenv import load_dotenv\n",
    "load_dotenv()"
   ]
  },
  {
   "cell_type": "code",
   "execution_count": 2,
   "metadata": {},
   "outputs": [],
   "source": [
    "from pydantic import BaseModel, Field\n",
    "\n",
    "\n",
    "def company_query_func(args):\n",
    "    name = (args if isinstance(args, str) else args.get('name')).lower()\n",
    "    members = {\n",
    "        \"james\": \"James is a member of esri company\",\n",
    "        \"jim\": \"Jim is a member of google company\",\n",
    "        \"jimmy\": \"Jimmy is a member of openai company\",\n",
    "        \"jimothy\": \"Jimothy is a member facebook company\",\n",
    "    }\n",
    "    return f\"{members[name]}\"\n",
    "\n",
    "\n",
    "class CompanyQuery(BaseModel):\n",
    "    name: str = Field()\n",
    "\n",
    "\n",
    "company_query_tool = Tool.from_function(\n",
    "    name=\"CompanyQuery\",\n",
    "    func=company_query_func,\n",
    "    description=\"useful for when you want to know someone's company\",\n",
    "    args_schema=CompanyQuery\n",
    ")\n",
    "\n",
    "\n",
    "def company_info_func(args):\n",
    "    company = (args if isinstance(args, str) else args.get('company')).lower()\n",
    "    companys = {\n",
    "        \"esri\": \"esri is a geo related company\",\n",
    "        \"google\": \"google is a search engine related company\",\n",
    "    }\n",
    "    return f\"{companys[company]}\"\n",
    "\n",
    "\n",
    "class CompanyInfo(BaseModel):\n",
    "    company: str = Field()\n",
    "\n",
    "\n",
    "company_info_tool = Tool.from_function(\n",
    "    name=\"GetCompanyInfo\",\n",
    "    func=company_info_func,\n",
    "    description=\"useful for when you want to know a company's info\",\n",
    "    args_schema=CompanyInfo\n",
    ")"
   ]
  },
  {
   "cell_type": "code",
   "execution_count": 3,
   "metadata": {},
   "outputs": [],
   "source": [
    "input = 'James belongs to which company? Introduce the company\\'s information'\n",
    "tools = [company_query_tool, company_info_tool]\n",
    "agent = StructuredChatAgent(tools=tools, verbose=False, print_prompt=False)"
   ]
  },
  {
   "cell_type": "code",
   "execution_count": 5,
   "metadata": {},
   "outputs": [
    {
     "data": {
      "text/plain": [
       "\"Esri is a company that specializes in geographic information system (GIS) software and technology. They provide mapping and spatial analytics solutions to help organizations make informed decisions. Esri's products are used in various industries such as government, transportation, natural resources, and utilities.\""
      ]
     },
     "execution_count": 5,
     "metadata": {},
     "output_type": "execute_result"
    }
   ],
   "source": [
    "agent.run(input=input)"
   ]
  },
  {
   "cell_type": "code",
   "execution_count": null,
   "metadata": {},
   "outputs": [],
   "source": []
  }
 ],
 "metadata": {
  "kernelspec": {
   "display_name": "chatbot",
   "language": "python",
   "name": "python3"
  },
  "language_info": {
   "codemirror_mode": {
    "name": "ipython",
    "version": 3
   },
   "file_extension": ".py",
   "mimetype": "text/x-python",
   "name": "python",
   "nbconvert_exporter": "python",
   "pygments_lexer": "ipython3",
   "version": "3.9.16"
  },
  "orig_nbformat": 4
 },
 "nbformat": 4,
 "nbformat_minor": 2
}
