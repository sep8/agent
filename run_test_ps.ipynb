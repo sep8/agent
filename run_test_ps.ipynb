{
 "cells": [
  {
   "cell_type": "code",
   "execution_count": 55,
   "metadata": {},
   "outputs": [],
   "source": [
    "from models.text_model import TextModel\n",
    "from models.chat_model import ChatModel\n",
    "import setup_env"
   ]
  },
  {
   "cell_type": "code",
   "execution_count": 56,
   "metadata": {},
   "outputs": [],
   "source": [
    "completion = TextModel(model_name='text-davinci-003', max_tokens=500)"
   ]
  },
  {
   "cell_type": "code",
   "execution_count": 57,
   "metadata": {},
   "outputs": [],
   "source": [
    "question = \"\"\"In a dance class of 30 students 20% enrolled in contemporary dance, 25% of the remaining enrolled in jazz dance, and the rest enrolled in hip-hop dance.\n",
    "How many more students are enrolled in hip-hop and jazz than in contemporary dance?\"\"\""
   ]
  },
  {
   "cell_type": "code",
   "execution_count": 58,
   "metadata": {},
   "outputs": [
    {
     "name": "stdout",
     "output_type": "stream",
     "text": [
      "The total number of students enrolled in contemporary dance is 20% of 30, or 6 students.\n",
      "The total number of students enrolled in jazz dance is 25% of (30 - 6), or 7.5 students.\n",
      "The total number of students enrolled in hip-hop dance is (30 - 6 - 7.5), or 16.5 students.\n",
      "\n",
      "Therefore, the total number of students enrolled in hip-hop and jazz is (7.5 + 16.5), or 24 students. This is 18 more students than those enrolled in contemporary dance.\n"
     ]
    }
   ],
   "source": [
    "prompt = f\"\"\"\n",
    "Q: {question}\n",
    "A:\n",
    "\"\"\"\n",
    "\n",
    "response = completion(prompt=prompt)\n",
    "print(response.generations[0])"
   ]
  },
  {
   "cell_type": "code",
   "execution_count": 59,
   "metadata": {},
   "outputs": [
    {
     "name": "stdout",
     "output_type": "stream",
     "text": [
      "\n",
      "First, 20% of 30 students is 6 students, so 6 students enrolled in contemporary dance.\n",
      "\n",
      "Second, 25% of the remaining 24 students is 6 students, so 6 students enrolled in jazz dance.\n",
      "\n",
      "Finally, the remaining 18 students enrolled in hip-hop dance.\n",
      "\n",
      "Therefore, there are 12 more students enrolled in hip-hop and jazz than in contemporary dance (6 + 6 = 12).\n"
     ]
    }
   ],
   "source": [
    "prompt = f\"\"\"\n",
    "Q: {question}\n",
    "A: Let's think step by step.\n",
    "\"\"\"\n",
    "\n",
    "response = completion(prompt=prompt)\n",
    "print(response.generations[0])"
   ]
  },
  {
   "cell_type": "code",
   "execution_count": 62,
   "metadata": {},
   "outputs": [
    {
     "name": "stdout",
     "output_type": "stream",
     "text": [
      "\n",
      "Plan:\n",
      "1. Calculate the total number of students enrolled in contemporary dance.\n",
      "2. Calculate the total number of students enrolled in jazz and hip-hop dance.\n",
      "3. Subtract the number of students enrolled in contemporary dance from the total number of students enrolled in jazz and hip-hop dance.\n",
      "\n",
      "Solution:\n",
      "1. 20% of 30 students is 6 students, so the total number of students enrolled in contemporary dance is 6.\n",
      "2. 25% of 24 students (24 is the remaining number of students after subtracting the number of students enrolled in contemporary dance) is 6 students, so the total number of students enrolled in jazz dance is 6. The total number of students enrolled in hip-hop dance is 18 (24 - 6).\n",
      "3. The total number of students enrolled in jazz and hip-hop dance is 24 (6 + 18).\n",
      "4. The difference between the number of students enrolled in jazz and hip-hop dance and the number of students enrolled in contemporary dance is 18 (24 - 6).\n",
      "\n",
      "Therefore, there are 18 more students enrolled in hip-hop and jazz than in contemporary dance.\n"
     ]
    }
   ],
   "source": [
    "prompt = f\"\"\"\n",
    "Q: {question}\n",
    "A: Let's first understand the problem and devise a plan to solve the problem. Then, let's carry out the plan and solve the problem step by step.\n",
    "\"\"\"\n",
    "\n",
    "response = completion(prompt=prompt)\n",
    "print(response.generations[0])"
   ]
  },
  {
   "cell_type": "code",
   "execution_count": 61,
   "metadata": {},
   "outputs": [
    {
     "name": "stdout",
     "output_type": "stream",
     "text": [
      "\n",
      "Variables:\n",
      "\n",
      "Total number of students: 30\n",
      "Percentage enrolled in contemporary dance: 20%\n",
      "\n",
      "Plan:\n",
      "\n",
      "1. Calculate the number of students enrolled in contemporary dance.\n",
      "2. Calculate the number of students enrolled in jazz and hip-hop dance.\n",
      "3. Calculate the difference between the number of students enrolled in jazz and hip-hop dance and the number of students enrolled in contemporary dance.\n",
      "\n",
      "Calculation:\n",
      "\n",
      "1. Number of students enrolled in contemporary dance = 30 x 20% = 6\n",
      "2. Number of students enrolled in jazz and hip-hop dance = 30 - 6 = 24\n",
      "3. Difference between the number of students enrolled in jazz and hip-hop dance and the number of students enrolled in contemporary dance = 24 - 6 = 18\n",
      "\n",
      "Answer:\n",
      "\n",
      "There are 18 more students enrolled in hip-hop and jazz than in contemporary dance.\n"
     ]
    }
   ],
   "source": [
    "prompt = f\"\"\"\n",
    "Q: {question}\n",
    "A: Let's first understand the problem, extract relevant variables and their corresponding numerals, and devise a complete plan. Then, let's carry out the plan, calculate intermediate variables (pay attention to correct numerical calculation and commonsense), solve the problem step by step, and show the answer.\n",
    "\"\"\"\n",
    "\n",
    "response = completion(prompt=prompt)\n",
    "print(response.generations[0])"
   ]
  },
  {
   "cell_type": "code",
   "execution_count": null,
   "metadata": {},
   "outputs": [],
   "source": []
  }
 ],
 "metadata": {
  "kernelspec": {
   "display_name": "agent",
   "language": "python",
   "name": "python3"
  },
  "language_info": {
   "codemirror_mode": {
    "name": "ipython",
    "version": 3
   },
   "file_extension": ".py",
   "mimetype": "text/x-python",
   "name": "python",
   "nbconvert_exporter": "python",
   "pygments_lexer": "ipython3",
   "version": "3.9.16"
  },
  "orig_nbformat": 4
 },
 "nbformat": 4,
 "nbformat_minor": 2
}
