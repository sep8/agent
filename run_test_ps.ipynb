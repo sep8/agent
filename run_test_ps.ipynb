{
 "cells": [
  {
   "cell_type": "code",
   "execution_count": 1,
   "metadata": {},
   "outputs": [],
   "source": [
    "from models.text_model import TextModel\n",
    "from models.chat_model import ChatModel\n",
    "import setup_env"
   ]
  },
  {
   "cell_type": "code",
   "execution_count": 2,
   "metadata": {},
   "outputs": [],
   "source": [
    "completion = ChatModel(model_name='davinci')"
   ]
  },
  {
   "cell_type": "code",
   "execution_count": 3,
   "metadata": {},
   "outputs": [
    {
     "name": "stdout",
     "output_type": "stream",
     "text": [
      "Step 1: We know that 20% of the students enrolled in contemporary dance.\n",
      "Step 2: We know that 25% of the remaining students enrolled in jazz dance.\n",
      "Step 3: We know that the rest of the students enrolled in hip-hop dance.\n",
      "Step 4: We know that the total number of students enrolled in hip-hop dance is the sum of the number of students enrolled in contemporary dance and the number of students enrolled in jazz dance.\n",
      "Step 5: We know that the number of students enrolled in contemporary dance is 20% of the total number of students enrolled in hip-hop dance.\n",
      "Step 6: We know that the number of students enrolled in jazz dance is 25% of the total number of students enrolled in hip-hop dance.\n",
      "Step 7: We know that the number of students enrolled in hip-hop dance is the sum of the number of students enrolled in contemporary dance and the number of students enrolled in jazz dance.\n",
      "Step 8: We know that the number of students enrolled in hip-hop dance is the sum of 20% of the total number of students enrolled in hip-hop dance and 25% of the total number of students enrolled in hip-hop dance.\n",
      "Step 9: We know that the number of students enrolled in hip-hop dance is 20% of the total number of students enrolled in hip-hop dance plus 25% of the total number of students enrolled in hip-hop dance.\n",
      "Step 10: We know that\n"
     ]
    }
   ],
   "source": [
    "prompt = \"\"\"\n",
    "Q: In a dance class of 20 students 20% enrolled in contemporary dance, 25% of the remaining enrolled in jazz dance, and the rest enrolled in hip-hop dance.\n",
    "What percentage of the entire students enrolled in hip-hop dance?\n",
    "A: Let's think step by step.\n",
    "\"\"\"\n",
    "\n",
    "response = completion(prompt=prompt)\n",
    "print(response.generations[0])"
   ]
  },
  {
   "cell_type": "code",
   "execution_count": 4,
   "metadata": {},
   "outputs": [
    {
     "name": "stdout",
     "output_type": "stream",
     "text": [
      "Step 1: Understand the problem\n",
      "The problem is asking us to find the percentage of the students enrolled in hip-hop dance.\n",
      "Step 2: Devise a plan\n",
      "We need to find the total number of students enrolled in hip-hop dance.\n",
      "Step 3: Carry out the plan\n",
      "We know that 20% of the students enrolled in contemporary dance, 25% of the remaining enrolled in jazz dance, and the rest enrolled in hip-hop dance.\n",
      "So, we can write the following equation:\n",
      "20% of the students enrolled in contemporary dance + 25% of the remaining students enrolled in jazz dance + the rest of the students enrolled in hip-hop dance = the total number of students enrolled in hip-hop dance\n",
      "Step 4: Solve the problem\n",
      "We can solve the equation by cross multiplying.\n",
      "20% × the total number of students enrolled in hip-hop dance + 25% × the remaining students enrolled in jazz dance = the total number of students enrolled in hip-hop dance\n",
      "20% × the total number of students enrolled in hip-hop dance + 25% × the remaining students enrolled in jazz dance = the total number of students enrolled in hip-hop dance\n",
      "5% × the total number of students enrolled in hip-hop dance = the total number of students enrolled in jazz dance\n",
      "Step 5: Check the answer\n",
      "We can check the answer by substituting the values in the original equation.\n",
      "20% × the total number of students enrolled\n"
     ]
    }
   ],
   "source": [
    "prompt = \"\"\"\n",
    "Q: In a dance class of 20 students 20% enrolled in contemporary dance, 25% of the remaining enrolled in jazz dance, and the rest enrolled in hip-hop dance.\n",
    "What percentage of the entire students enrolled in hip-hop dance?\n",
    "A: Let's first understand the problem and devise a plan to solve the problem. Then, let's carry out the plan and solve the problem step by step.\n",
    "\"\"\"\n",
    "\n",
    "response = completion(prompt=prompt)\n",
    "print(response.generations[0])"
   ]
  },
  {
   "cell_type": "code",
   "execution_count": null,
   "metadata": {},
   "outputs": [],
   "source": []
  }
 ],
 "metadata": {
  "kernelspec": {
   "display_name": "agent",
   "language": "python",
   "name": "python3"
  },
  "language_info": {
   "codemirror_mode": {
    "name": "ipython",
    "version": 3
   },
   "file_extension": ".py",
   "mimetype": "text/x-python",
   "name": "python",
   "nbconvert_exporter": "python",
   "pygments_lexer": "ipython3",
   "version": "3.9.16"
  },
  "orig_nbformat": 4
 },
 "nbformat": 4,
 "nbformat_minor": 2
}
