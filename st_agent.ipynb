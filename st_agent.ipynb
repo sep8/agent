{
 "cells": [
  {
   "cell_type": "code",
   "execution_count": 1,
   "metadata": {},
   "outputs": [
    {
     "data": {
      "text/plain": [
       "True"
      ]
     },
     "execution_count": 1,
     "metadata": {},
     "output_type": "execute_result"
    }
   ],
   "source": [
    "from agents.structured_chat.structured_chat import StructuredChatAgent\n",
    "from tools.base import Tool\n",
    "from dotenv import load_dotenv\n",
    "load_dotenv()"
   ]
  },
  {
   "cell_type": "code",
   "execution_count": 2,
   "metadata": {},
   "outputs": [],
   "source": [
    "from typing import Type\n",
    "from pydantic import BaseModel, Field\n",
    "from tools.base import BaseTool\n",
    "\n",
    "class CompanyQuery(BaseModel):\n",
    "    name: str = Field(description=\"name of the person\")\n",
    "\n",
    "class CompanyQueryTool(BaseTool):\n",
    "    name = \"CompanyQuery\"\n",
    "    description = \"useful for when you want to know someone's company\"\n",
    "    args_schema: Type[CompanyQuery] = CompanyQuery\n",
    "\n",
    "    def _run(\n",
    "        self,\n",
    "        name: str,\n",
    "    ) -> str:\n",
    "        members = {\n",
    "            \"james\": \"James is a member of esri company\",\n",
    "            \"jim\": \"Jim is a member of google company\",\n",
    "            \"jimmy\": \"Jimmy is a member of openai company\",\n",
    "            \"jimothy\": \"Jimothy is a member facebook company\",\n",
    "        }\n",
    "        return f\"{members[name.lower()]}\"\n",
    "\n",
    "    async def _arun(\n",
    "        self,\n",
    "        company: str\n",
    "    ) -> str:\n",
    "        \"\"\"Use the tool asynchronously.\"\"\"\n",
    "        raise NotImplementedError(\"GetCompanyInfo does not support async\")\n",
    "\n",
    "\n",
    "class CompanyInfo(BaseModel):\n",
    "    company: str = Field()\n",
    "\n",
    "class CompanyInfoTool(BaseTool):\n",
    "    name = \"GetCompanyInfo\"\n",
    "    description = \"useful for when you want to know a company's info\"\n",
    "    args_schema: Type[CompanyInfo] = CompanyInfo\n",
    "\n",
    "    def _run(\n",
    "        self,\n",
    "        company: str,\n",
    "    ) -> str:\n",
    "        companys = {\n",
    "            \"esri\": \"esri is a geo related company\",\n",
    "            \"google\": \"google is a search engine related company\"\n",
    "        }\n",
    "        return f\"{companys[company.lower()]}\"\n",
    "\n",
    "    async def _arun(\n",
    "        self,\n",
    "        company: str\n",
    "    ) -> str:\n",
    "        \"\"\"Use the tool asynchronously.\"\"\"\n",
    "        raise NotImplementedError(\"GetCompanyInfo does not support async\")"
   ]
  },
  {
   "cell_type": "code",
   "execution_count": 3,
   "metadata": {},
   "outputs": [],
   "source": [
    "input = 'James belongs to which company? Introduce the company\\'s information'\n",
    "tools = [CompanyQueryTool(), CompanyInfoTool()]\n",
    "agent = StructuredChatAgent(tools=tools, verbose=False, print_prompt=False)"
   ]
  },
  {
   "cell_type": "code",
   "execution_count": 4,
   "metadata": {},
   "outputs": [
    {
     "data": {
      "text/plain": [
       "'The company that James belongs to is \"esri\". It is a geo-related company.'"
      ]
     },
     "execution_count": 4,
     "metadata": {},
     "output_type": "execute_result"
    }
   ],
   "source": [
    "agent.run(input=input)"
   ]
  },
  {
   "cell_type": "code",
   "execution_count": null,
   "metadata": {},
   "outputs": [],
   "source": []
  }
 ],
 "metadata": {
  "kernelspec": {
   "display_name": "chatbot",
   "language": "python",
   "name": "python3"
  },
  "language_info": {
   "codemirror_mode": {
    "name": "ipython",
    "version": 3
   },
   "file_extension": ".py",
   "mimetype": "text/x-python",
   "name": "python",
   "nbconvert_exporter": "python",
   "pygments_lexer": "ipython3",
   "version": "3.9.16"
  },
  "orig_nbformat": 4
 },
 "nbformat": 4,
 "nbformat_minor": 2
}
