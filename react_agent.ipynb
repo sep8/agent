{
 "cells": [
  {
   "cell_type": "code",
   "execution_count": 1,
   "metadata": {},
   "outputs": [
    {
     "data": {
      "text/plain": [
       "True"
      ]
     },
     "execution_count": 1,
     "metadata": {},
     "output_type": "execute_result"
    }
   ],
   "source": [
    "from agents.mrkl.zero_shot_agent import ZeroShotAgent\n",
    "from tools.base import Tool\n",
    "from pydantic import BaseModel, Field\n",
    "from dotenv import load_dotenv\n",
    "load_dotenv()"
   ]
  },
  {
   "cell_type": "code",
   "execution_count": 2,
   "metadata": {},
   "outputs": [],
   "source": [
    "tools = []\n",
    "def company_query_func(args):\n",
    "    name = (args if isinstance(args, str) else args.get('name')).lower()\n",
    "    members = {\n",
    "        \"james\": \"James is a member of esri company\",\n",
    "        \"jim\": \"Jim is a member of google company\",\n",
    "        \"jimmy\": \"Jimmy is a member of openai company\",\n",
    "        \"jimothy\": \"Jimothy is a member facebook company\",\n",
    "    }\n",
    "    return f\"{members[name]}\"\n",
    "\n",
    "\n",
    "company_query_tool = Tool(**{\n",
    "    \"name\": \"CompanyQuery\",\n",
    "    \"func\": company_query_func,\n",
    "    \"description\": \"useful for when you want to know someone's company\"\n",
    "})\n",
    "\n",
    "class CompanyQueryInfo(BaseModel):\n",
    "    name: str = Field()\n",
    "\n",
    "tools.append(\n",
    "    Tool.from_function(\n",
    "        func=company_query_func,\n",
    "        name=\"CompanyQuery\",\n",
    "        description=\"useful for when you want to know someone's company\",\n",
    "        args_schema=CompanyQueryInfo,\n",
    "    )\n",
    ")\n",
    "def company_info_func(args):\n",
    "    company = (args if isinstance(args, str) else args.get('company')).lower()\n",
    "    companys = {\n",
    "        \"esri\": \"esri is a geo related company\",\n",
    "        \"google\": \"google is a search engine related company\",\n",
    "    }\n",
    "    return f\"{companys[company]}\"\n",
    "\n",
    "\n",
    "class CompanyInfo(BaseModel):\n",
    "    company: str = Field()\n",
    "\n",
    "tools.append(\n",
    "    Tool.from_function(\n",
    "        func=company_info_func,\n",
    "        name=\"GetCompanyInfo\",\n",
    "        description=\"useful for when you want to know a company's info\",\n",
    "        args_schema=CompanyInfo\n",
    "    )\n",
    ")"
   ]
  },
  {
   "cell_type": "code",
   "execution_count": 3,
   "metadata": {},
   "outputs": [],
   "source": [
    "input = 'James belongs to which company? Introduce the company\\'s information'\n",
    "agent = ZeroShotAgent(tools=tools, verbose=False, print_prompt=False)"
   ]
  },
  {
   "cell_type": "code",
   "execution_count": 4,
   "metadata": {},
   "outputs": [
    {
     "data": {
      "text/plain": [
       "'James belongs to the company esri, which is a geo related company.'"
      ]
     },
     "execution_count": 4,
     "metadata": {},
     "output_type": "execute_result"
    }
   ],
   "source": [
    "agent.run(input=input)"
   ]
  },
  {
   "cell_type": "code",
   "execution_count": null,
   "metadata": {},
   "outputs": [],
   "source": []
  }
 ],
 "metadata": {
  "kernelspec": {
   "display_name": "chatbot",
   "language": "python",
   "name": "python3"
  },
  "language_info": {
   "codemirror_mode": {
    "name": "ipython",
    "version": 3
   },
   "file_extension": ".py",
   "mimetype": "text/x-python",
   "name": "python",
   "nbconvert_exporter": "python",
   "pygments_lexer": "ipython3",
   "version": "3.9.16"
  },
  "orig_nbformat": 4
 },
 "nbformat": 4,
 "nbformat_minor": 2
}
