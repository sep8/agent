{
 "cells": [
  {
   "cell_type": "code",
   "execution_count": 1,
   "metadata": {},
   "outputs": [],
   "source": [
    "from agents.structured_chat.structured_chat import StructuredChatAgent\n",
    "import setup_env"
   ]
  },
  {
   "cell_type": "code",
   "execution_count": 2,
   "metadata": {},
   "outputs": [],
   "source": [
    "from typing import Type\n",
    "from pydantic import BaseModel, Field\n",
    "from tools.base import BaseTool\n",
    "\n",
    "class MultiplicationArgs(BaseModel):\n",
    "    a: float = Field(description=\"first argument of multiplication\")\n",
    "    b: float = Field(description=\"second argument of multiplication\")\n",
    "\n",
    "class Multiplication(BaseTool):\n",
    "    name = \"Multiplication\"\n",
    "    description = \"useful for when you want to calculate multiplication\"\n",
    "    args_schema: Type[MultiplicationArgs] = MultiplicationArgs\n",
    "\n",
    "    def _run(\n",
    "        self,\n",
    "        a: float,\n",
    "        b: float\n",
    "    ) -> str:\n",
    "        \"\"\"Multiply the provided floats.\"\"\"\n",
    "        return a * b\n",
    "    \n",
    "    async def _arun(\n",
    "        self,\n",
    "        a: float,\n",
    "        b: float\n",
    "    ) -> str:\n",
    "        \"\"\"Use the tool asynchronously.\"\"\"\n",
    "        raise NotImplementedError(\"Multiplication does not support async\")\n"
   ]
  },
  {
   "cell_type": "code",
   "execution_count": 3,
   "metadata": {},
   "outputs": [],
   "source": [
    "input = 'What is 3 times 4'\n",
    "tools = [Multiplication()]\n",
    "agent = StructuredChatAgent(tools=tools, verbose=False, print_prompt=True)"
   ]
  },
  {
   "cell_type": "code",
   "execution_count": 4,
   "metadata": {},
   "outputs": [
    {
     "name": "stderr",
     "output_type": "stream",
     "text": [
      "Respond to the human as helpfully and accurately as possible. You have access to the following tools:\n",
      "\n",
      "Multiplication: useful for when you want to calculate multiplication, args: {{'a': {{'title': 'A', 'description': 'first argument of multiplication', 'type': 'number'}}, 'b': {{'title': 'B', 'description': 'second argument of multiplication', 'type': 'number'}}}}\n",
      "\n",
      "Use a json blob to specify a tool by providing an action key (tool name) and an action_input key (tool input).\n",
      "\n",
      "Valid \"action\" values: \"Final Answer\" or Multiplication\n",
      "\n",
      "Provide only ONE action per $JSON_BLOB, as shown:\n",
      "\n",
      "```\n",
      "{\n",
      "  \"action\": $TOOL_NAME,\n",
      "  \"action_input\": $INPUT\n",
      "}\n",
      "```\n",
      "\n",
      "Follow this format:\n",
      "\n",
      "Question: input question to answer\n",
      "Thought: consider previous and subsequent steps\n",
      "Action:\n",
      "```\n",
      "$JSON_BLOB\n",
      "```\n",
      "Observation: action result\n",
      "... (repeat Thought/Action/Observation N times)\n",
      "Thought: I know what to respond\n",
      "Action:\n",
      "```\n",
      "{\n",
      "  \"action\": \"Final Answer\",\n",
      "  \"action_input\": \"Final response to human\"\n",
      "}\n",
      "```\n",
      "\n",
      "Begin! Reminder to ALWAYS respond with a valid json blob of a single action. Use tools if necessary. Respond directly if appropriate. Format is Action:```$JSON_BLOB```then Observation:.\n",
      "Thought:\n",
      "What is 3 times 4\n",
      "\n",
      "\u001b[42m\u001b[30mThis was your previous work (but I haven't seen any of it! I only see what you return as final answer):\n",
      "I can use the Multiplication tool to calculate that. \n",
      "\n",
      "Action:\n",
      "```{\"action\": \"Multiplication\", \"action_input\": {\"a\": 3, \"b\": 4}}```\n",
      "\n",
      "\n",
      "Observation: 12.0\n",
      "Thought:\u001b[0m\u001b[42m\u001b[0m"
     ]
    },
    {
     "name": "stdout",
     "output_type": "stream",
     "text": [
      "\n",
      "The result of multiplying 3 by 4 is 12.0.\n",
      "\n"
     ]
    },
    {
     "data": {
      "text/plain": [
       "'The result of multiplying 3 by 4 is 12.0.'"
      ]
     },
     "execution_count": 4,
     "metadata": {},
     "output_type": "execute_result"
    }
   ],
   "source": [
    "agent.run(input=input)"
   ]
  },
  {
   "cell_type": "code",
   "execution_count": null,
   "metadata": {},
   "outputs": [],
   "source": []
  }
 ],
 "metadata": {
  "kernelspec": {
   "display_name": "chatbot",
   "language": "python",
   "name": "python3"
  },
  "language_info": {
   "codemirror_mode": {
    "name": "ipython",
    "version": 3
   },
   "file_extension": ".py",
   "mimetype": "text/x-python",
   "name": "python",
   "nbconvert_exporter": "python",
   "pygments_lexer": "ipython3",
   "version": "3.9.16"
  },
  "orig_nbformat": 4
 },
 "nbformat": 4,
 "nbformat_minor": 2
}
