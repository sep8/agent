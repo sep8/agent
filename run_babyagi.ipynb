{
 "cells": [
  {
   "cell_type": "code",
   "execution_count": 1,
   "metadata": {},
   "outputs": [],
   "source": [
    "from models.text_model import TextModel\n",
    "from models.chat_model import ChatModel\n",
    "import setup_env"
   ]
  },
  {
   "cell_type": "code",
   "execution_count": null,
   "metadata": {},
   "outputs": [],
   "source": [
    "chat = ChatModel(model_name='gpt-3.5-turbo')\n",
    "\n",
    "def complete_prompt(template, inputs, role='user'):\n",
    "    content = template.format(**inputs)\n",
    "    messages = [{\n",
    "        'role': role,\n",
    "        'content': content\n",
    "    }]\n",
    "    return messages"
   ]
  },
  {
   "cell_type": "code",
   "execution_count": 6,
   "metadata": {},
   "outputs": [],
   "source": [
    "task_prioritization_template = \"\"\"\n",
    "You are an task prioritization AI tasked with cleaning the formatting of and reprioritizing the following tasks: {task_names}.\"\n",
    "Consider the ultimate objective of your team: {objective}.\n",
    "Do not remove any tasks. Return the result as a numbered list, like:\"\n",
    " #. First task\"\n",
    " #. Second task\"\n",
    "Start the task list with number {next_task_id}.\"\"\""
   ]
  },
  {
   "cell_type": "code",
   "execution_count": 7,
   "metadata": {},
   "outputs": [
    {
     "name": "stdout",
     "output_type": "stream",
     "text": [
      "\n",
      "You are an task prioritization AI tasked with cleaning the formatting of and reprioritizing the following tasks: [1, 2].\"\n",
      "Consider the ultimate objective of your team: 0.\n",
      "Do not remove any tasks. Return the result as a numbered list, like:\"\n",
      " #. First task\"\n",
      " #. Second task\"\n",
      "Start the task list with number 1.\n"
     ]
    }
   ],
   "source": [
    "task_prioritization = task_prioritization_template.format(task_names=[1,2], objective=0, next_task_id=1)\n",
    "print(task_prioritization)"
   ]
  },
  {
   "cell_type": "code",
   "execution_count": null,
   "metadata": {},
   "outputs": [],
   "source": [
    "question = 'Were Scott Derrickson and Ed Wood of the same nationality?'\n",
    "\n",
    "task_prioritization_prompt = complete_prompt(task_prioritization_template)"
   ]
  }
 ],
 "metadata": {
  "kernelspec": {
   "display_name": "chatbot",
   "language": "python",
   "name": "python3"
  },
  "language_info": {
   "codemirror_mode": {
    "name": "ipython",
    "version": 3
   },
   "file_extension": ".py",
   "mimetype": "text/x-python",
   "name": "python",
   "nbconvert_exporter": "python",
   "pygments_lexer": "ipython3",
   "version": "3.9.16"
  },
  "orig_nbformat": 4
 },
 "nbformat": 4,
 "nbformat_minor": 2
}
