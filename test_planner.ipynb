{
 "cells": [
  {
   "cell_type": "code",
   "execution_count": 1,
   "metadata": {},
   "outputs": [],
   "source": [
    "from models.chat_model import ChatModel\n",
    "import setup_env"
   ]
  },
  {
   "cell_type": "code",
   "execution_count": 2,
   "metadata": {},
   "outputs": [],
   "source": [
    "model = ChatModel()"
   ]
  },
  {
   "cell_type": "code",
   "execution_count": 3,
   "metadata": {},
   "outputs": [],
   "source": [
    "planner_prompt = \"\"\"\n",
    "Let's first understand the problem and devise a plan to solve the problem.\n",
    "Please output the plan starting with the header 'Plan:' and then followed by a numbered list of steps. \n",
    "Please make the plan the minimum number of steps required to accurately complete the task.\n",
    "If the task is a question, the final step should almost always be 'Given the above steps taken, please respond to the users original question'. \n",
    "At the end of your plan, say '<END_OF_PLAN>'\n",
    "\"\"\""
   ]
  },
  {
   "cell_type": "code",
   "execution_count": 4,
   "metadata": {},
   "outputs": [
    {
     "name": "stdout",
     "output_type": "stream",
     "text": [
      "Plan:\n",
      "1. Look up the nationality of Scott Derrickson.\n",
      "2. Look up the nationality of Ed Wood.\n",
      "3. Compare the nationalities of Scott Derrickson and Ed Wood.\n",
      "4. Given the above steps taken, respond to the user's original question.\n",
      "\n",
      "<END_OF_PLAN>\n"
     ]
    }
   ],
   "source": [
    "messages = [{\n",
    "    'role': 'system',\n",
    "    'content': planner_prompt\n",
    "}, {\n",
    "    'role': 'user',\n",
    "    'content': 'Were Scott Derrickson and Ed Wood of the same nationality?'}]\n",
    "response = model(messages=messages)\n",
    "print(response.generations[0].text)"
   ]
  },
  {
   "cell_type": "markdown",
   "metadata": {},
   "source": [
    "Plan:\n",
    "1. Look up the nationality of Scott Derrickson.\n",
    "2. Look up the nationality of Ed Wood.\n",
    "3. Compare the nationalities of Scott Derrickson and Ed Wood.\n",
    "4. Given the above steps taken, respond to the user's original question."
   ]
  },
  {
   "cell_type": "code",
   "execution_count": 30,
   "metadata": {},
   "outputs": [],
   "source": [
    "zero_shot_react_system = \"\"\"Respond to the human as helpfully and accurately as possible. You have access to the following tools:\n",
    "\n",
    "Wikipedia: A wrapper around Wikipedia. Useful for when you need to answer general questions about people, places, companies, facts, historical events, or other subjects. Input should be a search query., args: {{'query': {{'type': 'string'}}}}\n",
    "\n",
    "Use a json blob to specify a tool by providing an action key (tool name) and an action_input key (tool input).\n",
    "\n",
    "Valid \"action\" values: \"Final Answer\" or Wikipedia\n",
    "\n",
    "Provide only ONE action per $JSON_BLOB, as shown:\n",
    "\n",
    "```\n",
    "{\n",
    "  \"action\": $TOOL_NAME,\n",
    "  \"action_input\": $INPUT\n",
    "}\n",
    "```\n",
    "\n",
    "Follow this format:\n",
    "\n",
    "Question: input question to answer\n",
    "Thought: consider previous and subsequent steps\n",
    "Action:\n",
    "```\n",
    "$JSON_BLOB\n",
    "```\n",
    "Observation: action result\n",
    "... (repeat Thought/Action/Observation N times)\n",
    "Thought: I know what to respond\n",
    "Action:\n",
    "```\n",
    "{\n",
    "  \"action\": \"Final Answer\",\n",
    "  \"action_input\": \"Final response to human\"\n",
    "}\n",
    "```\n",
    "\n",
    "Begin! Reminder to ALWAYS respond with a valid json blob of a single action. Use tools if necessary. Respond directly if appropriate. Format is Action:```$JSON_BLOB```then Observation:.\"\"\"\n",
    "\n",
    "user_input = \"\"\"Thought:\n",
    "Previous steps: steps={prev_steps}\n",
    "\n",
    "Current objective: value={objective}\"\"\""
   ]
  },
  {
   "cell_type": "code",
   "execution_count": null,
   "metadata": {},
   "outputs": [],
   "source": [
    "# Previous steps: steps=[(Step(value='Research the nationalities of Scott Derrickson and Ed Wood.'), StepResponse(response='Ed Wood is an American filmmaker.'))]\n",
    "\n",
    "# Current objective: value='CompareResearch the nationalities of Scott Derrickson and Ed Wood.'"
   ]
  }
 ],
 "metadata": {
  "kernelspec": {
   "display_name": "agent",
   "language": "python",
   "name": "python3"
  },
  "language_info": {
   "codemirror_mode": {
    "name": "ipython",
    "version": 3
   },
   "file_extension": ".py",
   "mimetype": "text/x-python",
   "name": "python",
   "nbconvert_exporter": "python",
   "pygments_lexer": "ipython3",
   "version": "3.9.16"
  },
  "orig_nbformat": 4
 },
 "nbformat": 4,
 "nbformat_minor": 2
}
