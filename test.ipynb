{
 "cells": [
  {
   "cell_type": "code",
   "execution_count": 14,
   "metadata": {},
   "outputs": [
    {
     "data": {
      "text/plain": [
       "True"
      ]
     },
     "execution_count": 14,
     "metadata": {},
     "output_type": "execute_result"
    }
   ],
   "source": [
    "from agents.structured_chat import StructuredChatAgent\n",
    "from tools.base import Tool\n",
    "from dotenv import load_dotenv\n",
    "load_dotenv()"
   ]
  },
  {
   "cell_type": "code",
   "execution_count": 15,
   "metadata": {},
   "outputs": [],
   "source": [
    "from langchain.utilities import SerpAPIWrapper\n",
    "\n",
    "search = SerpAPIWrapper()\n",
    "\n",
    "def search_func(args):\n",
    "    input = args.get('input')\n",
    "    return search.run(input)\n",
    "\n",
    "search_tool = Tool(**{\n",
    "    \"name\": \"Current Search\",\n",
    "    \"func\": search_func,\n",
    "    \"description\": \"useful for when you need to answer questions about current events or the current state of the world\",\n",
    "    \"args\": {\"tool_input\": {\"type\": \"string\"}}\n",
    "})\n"
   ]
  },
  {
   "cell_type": "code",
   "execution_count": 16,
   "metadata": {},
   "outputs": [
    {
     "data": {
      "text/plain": [
       "'ab'"
      ]
     },
     "execution_count": 16,
     "metadata": {},
     "output_type": "execute_result"
    }
   ],
   "source": [
    "s = 'AB'\n",
    "# to lowercase\n",
    "s.lower()\n"
   ]
  },
  {
   "cell_type": "code",
   "execution_count": 17,
   "metadata": {},
   "outputs": [],
   "source": [
    "def company_query_func(args):\n",
    "    name = args.get('tool_input').lower()\n",
    "    members = {\n",
    "        \"james\": \"James is a member of esri company\",\n",
    "        \"jim\": \"Jim is a member of google company\",\n",
    "        \"jimmy\": \"Jimmy is a member of openai company\",\n",
    "        \"jimothy\": \"Jimothy is a member facebook company\",\n",
    "    }\n",
    "    return f\"{members[name]}\"\n",
    "\n",
    "\n",
    "company_query_tool = Tool(**{\n",
    "    \"name\": \"CompanyQuery\",\n",
    "    \"func\": company_query_func,\n",
    "    \"description\": \"useful for when you want to know someone's company\",\n",
    "    \"args\": {\"tool_input\": {\"type\": \"string\"}}\n",
    "})\n",
    "\n",
    "def company_info_func(args):\n",
    "    company = args.get('tool_input').lower()\n",
    "    companys = {\n",
    "        \"esri\": \"esri is a geo related company\",\n",
    "        \"google\": \"google is a search engine related company\",\n",
    "    }\n",
    "    return f\"{companys[company]}\"\n",
    "\n",
    "\n",
    "company_info_tool = Tool(**{\n",
    "    \"name\": \"GetCompanyInfo\",\n",
    "    \"func\": company_info_func,\n",
    "    \"description\": \"useful for when you want to know a company's info\",\n",
    "    \"args\": {\"tool_input\": {\"type\": \"string\"}}\n",
    "})"
   ]
  },
  {
   "cell_type": "code",
   "execution_count": 18,
   "metadata": {},
   "outputs": [],
   "source": [
    "input = 'James belongs to which company? Introduce the company\\'s information'\n",
    "tools = [company_query_tool, company_info_tool]\n",
    "agent = StructuredChatAgent(tools, verbose=True)"
   ]
  },
  {
   "cell_type": "code",
   "execution_count": 19,
   "metadata": {},
   "outputs": [
    {
     "name": "stdout",
     "output_type": "stream",
     "text": [
      "\u001b[1m> Start: \n",
      "James belongs to which company? Introduce the company's information\n",
      "\u001b[0m\n",
      "\u001b[92mThought:I need to use the CompanyQuery tool to find out which company James belongs to. Then I can use the GetCompanyInfo tool to introduce the company's information. Let me do that now.\n",
      "\n",
      "Action:\n",
      "```\n",
      "{\n",
      "  \"action\": \"CompanyQuery\",\n",
      "  \"action_input\": {\n",
      "    \"type\": \"string\",\n",
      "    \"tool_input\": \"James\"\n",
      "  }\n",
      "}\n",
      "```\u001b[0m\n",
      "\u001b[94mObservation: James is a member of esri company\n",
      "\u001b[0m\n",
      "\u001b[92mThought:James belongs to the Esri company. Now I can use the GetCompanyInfo tool to introduce the company's information.\n",
      "\n",
      "Action:\n",
      "```\n",
      "{\n",
      "  \"action\": \"GetCompanyInfo\",\n",
      "  \"action_input\": {\n",
      "    \"type\": \"string\",\n",
      "    \"tool_input\": \"Esri\"\n",
      "  }\n",
      "}\n",
      "```\u001b[0m\n",
      "\u001b[94mObservation: esri is a geo related company\n",
      "\u001b[0m\n",
      "\u001b[92mThought:Esri is a geo-related company. They specialize in geographic information system (GIS) software and technology. They provide mapping and spatial analytics solutions to help organizations make informed decisions. Is there anything specific you would like to know about Esri?\u001b[0m\n",
      "\u001b[94mObservation: Esri is a geo-related company. They specialize in geographic information system (GIS) software and technology. They provide mapping and spatial analytics solutions to help organizations make informed decisions. Is there anything specific you would like to know about Esri?\n",
      "\u001b[0m\n"
     ]
    },
    {
     "data": {
      "text/plain": [
       "'Esri is a geo-related company. They specialize in geographic information system (GIS) software and technology. They provide mapping and spatial analytics solutions to help organizations make informed decisions. Is there anything specific you would like to know about Esri?'"
      ]
     },
     "execution_count": 19,
     "metadata": {},
     "output_type": "execute_result"
    }
   ],
   "source": [
    "agent.run(input=input)"
   ]
  },
  {
   "cell_type": "code",
   "execution_count": null,
   "metadata": {},
   "outputs": [],
   "source": []
  }
 ],
 "metadata": {
  "kernelspec": {
   "display_name": "chatbot",
   "language": "python",
   "name": "python3"
  },
  "language_info": {
   "codemirror_mode": {
    "name": "ipython",
    "version": 3
   },
   "file_extension": ".py",
   "mimetype": "text/x-python",
   "name": "python",
   "nbconvert_exporter": "python",
   "pygments_lexer": "ipython3",
   "version": "3.9.16"
  },
  "orig_nbformat": 4
 },
 "nbformat": 4,
 "nbformat_minor": 2
}
