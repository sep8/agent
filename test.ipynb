{
 "cells": [
  {
   "cell_type": "code",
   "execution_count": 17,
   "metadata": {},
   "outputs": [
    {
     "data": {
      "text/plain": [
       "True"
      ]
     },
     "execution_count": 17,
     "metadata": {},
     "output_type": "execute_result"
    }
   ],
   "source": [
    "from agents.structured_chat import StructuredChatAgent\n",
    "from tools.base import Tool\n",
    "from dotenv import load_dotenv\n",
    "load_dotenv()"
   ]
  },
  {
   "cell_type": "code",
   "execution_count": 18,
   "metadata": {},
   "outputs": [],
   "source": [
    "from langchain.utilities import SerpAPIWrapper\n",
    "\n",
    "search = SerpAPIWrapper()\n",
    "\n",
    "def search_func(args):\n",
    "    input = args.get('input')\n",
    "    return search.run(input)\n",
    "\n",
    "search_tool = Tool(**{\n",
    "    \"name\": \"Current Search\",\n",
    "    \"func\": search_func,\n",
    "    \"description\": \"useful for when you need to answer questions about current events or the current state of the world\",\n",
    "    \"args\": {'input': {'type': 'string'}}\n",
    "})\n"
   ]
  },
  {
   "cell_type": "code",
   "execution_count": 19,
   "metadata": {},
   "outputs": [],
   "source": [
    "def company_query_func(args):\n",
    "    name = args.get('name')\n",
    "    members = {\n",
    "        \"James\": \"James is a member of esri company\",\n",
    "        \"Jim\": \"Jim is a member of google company\",\n",
    "        \"Jimmy\": \"Jimmy is a member of openai company\",\n",
    "        \"Jimothy\": \"Jimothy is a member facebook company\",\n",
    "    }\n",
    "    return f\"{members[name]}\"\n",
    "\n",
    "\n",
    "company_query_tool = Tool(**{\n",
    "    \"name\": \"CompanyQuery\",\n",
    "    \"func\": company_query_func,\n",
    "    \"description\": \"useful for when you want to know someone's company\",\n",
    "    \"args\": {'name': {'type': 'string'}}\n",
    "})\n",
    "\n",
    "def company_info_func(args):\n",
    "    name = args.get('name')\n",
    "    members = {\n",
    "        \"esri\": \"esri is a geo related company\",\n",
    "        \"google\": \"google is a search engine related company\",\n",
    "    }\n",
    "    return f\"{members[name]}\"\n",
    "\n",
    "\n",
    "company_info_tool = Tool(**{\n",
    "    \"name\": \"GetCompanyInfo\",\n",
    "    \"func\": company_info_func,\n",
    "    \"description\": \"useful for when you want to know a company's info\",\n",
    "    \"args\": {'name': {'type': 'string'}}\n",
    "})"
   ]
  },
  {
   "cell_type": "code",
   "execution_count": 20,
   "metadata": {},
   "outputs": [],
   "source": [
    "input = 'James belongs to which company? Introduce the company\\'s information'\n",
    "tools = [company_query_tool, company_info_tool]\n",
    "agent = StructuredChatAgent(tools, verbose=True)"
   ]
  },
  {
   "cell_type": "code",
   "execution_count": 21,
   "metadata": {},
   "outputs": [
    {
     "name": "stdout",
     "output_type": "stream",
     "text": [
      "\u001b[1m> Start: \n",
      "James belongs to which company? Introduce the company's information\n",
      "\u001b[0m\n",
      "\u001b[92mThought: I need to use the CompanyQuery tool to find out which company James belongs to. Once I have the company name, I can use the GetCompanyInfo tool to retrieve the company's information.\n",
      "\n",
      "Action:\n",
      "```\n",
      "{\n",
      "  \"action\": \"CompanyQuery\",\n",
      "  \"action_input\": {\n",
      "    \"name\": \"James\"\n",
      "  }\n",
      "}\n",
      "```\u001b[0m\n",
      "\u001b[94mObservation: James is a member of esri company\n",
      "\u001b[0m\n",
      "\u001b[92mThought:Now that I know James belongs to the \"esri\" company, I can use the GetCompanyInfo tool to retrieve the company's information.\n",
      "\n",
      "Action:\n",
      "```\n",
      "{\n",
      "  \"action\": \"GetCompanyInfo\",\n",
      "  \"action_input\": {\n",
      "    \"name\": \"esri\"\n",
      "  }\n",
      "}\n",
      "```\u001b[0m\n",
      "\u001b[94mObservation: esri is a geo related company\n",
      "\u001b[0m\n",
      "\u001b[92mThought:Based on the information I found, James belongs to the company \"esri\". Esri is a geo-related company.\u001b[0m\n",
      "\u001b[94mObservation: Based on the information I found, James belongs to the company \"esri\". Esri is a geo-related company.\n",
      "\u001b[0m\n"
     ]
    },
    {
     "data": {
      "text/plain": [
       "'Based on the information I found, James belongs to the company \"esri\". Esri is a geo-related company.'"
      ]
     },
     "execution_count": 21,
     "metadata": {},
     "output_type": "execute_result"
    }
   ],
   "source": [
    "agent.run(input=input)"
   ]
  },
  {
   "cell_type": "code",
   "execution_count": null,
   "metadata": {},
   "outputs": [],
   "source": []
  }
 ],
 "metadata": {
  "kernelspec": {
   "display_name": "chatbot",
   "language": "python",
   "name": "python3"
  },
  "language_info": {
   "codemirror_mode": {
    "name": "ipython",
    "version": 3
   },
   "file_extension": ".py",
   "mimetype": "text/x-python",
   "name": "python",
   "nbconvert_exporter": "python",
   "pygments_lexer": "ipython3",
   "version": "3.9.16"
  },
  "orig_nbformat": 4
 },
 "nbformat": 4,
 "nbformat_minor": 2
}
