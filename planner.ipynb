{
 "cells": [
  {
   "cell_type": "code",
   "execution_count": 1,
   "metadata": {},
   "outputs": [],
   "source": [
    "from agents.planner_executors.executors import Executor\n",
    "from agents.planner_executors.planner import Planner\n",
    "from agents.planner_executors.planner_executors import PlanAndExecute"
   ]
  },
  {
   "cell_type": "code",
   "execution_count": 2,
   "metadata": {},
   "outputs": [],
   "source": [
    "from pydantic import BaseModel, Field\n",
    "\n",
    "from tools.base import Tool\n",
    "\n",
    "\n",
    "def company_query_func(args):\n",
    "    name = (args if isinstance(args, str) else args.get('name')).lower()\n",
    "    members = {\n",
    "        \"james\": \"James is a member of esri company\",\n",
    "        \"jim\": \"Jim is a member of google company\",\n",
    "        \"jimmy\": \"Jimmy is a member of openai company\",\n",
    "        \"jimothy\": \"Jimothy is a member facebook company\",\n",
    "    }\n",
    "    return f\"{members[name]}\"\n",
    "\n",
    "\n",
    "class CompanyQuery(BaseModel):\n",
    "    name: str = Field()\n",
    "\n",
    "\n",
    "company_query_tool = Tool.from_function(\n",
    "    name=\"CompanyQuery\",\n",
    "    func=company_query_func,\n",
    "    description=\"useful for when you want to know someone's company\",\n",
    "    args_schema=CompanyQuery\n",
    ")\n",
    "\n",
    "\n",
    "def company_info_func(args):\n",
    "    company = (args if isinstance(args, str) else args.get('company')).lower()\n",
    "    companys = {\n",
    "        \"esri\": \"esri is a geo related company\",\n",
    "        \"google\": \"google is a search engine related company\",\n",
    "    }\n",
    "    return f\"{companys[company]}\"\n",
    "\n",
    "\n",
    "class CompanyInfo(BaseModel):\n",
    "    company: str = Field()\n",
    "\n",
    "\n",
    "company_info_tool = Tool.from_function(\n",
    "    name=\"GetCompanyInfo\",\n",
    "    func=company_info_func,\n",
    "    description=\"useful for when you want to know a company's info\",\n",
    "    args_schema=CompanyInfo\n",
    ")"
   ]
  },
  {
   "cell_type": "code",
   "execution_count": 3,
   "metadata": {},
   "outputs": [],
   "source": [
    "input = 'James belongs to which company? Introduce the company\\'s information'\n",
    "tools = [company_query_tool, company_info_tool]"
   ]
  },
  {
   "cell_type": "code",
   "execution_count": 4,
   "metadata": {},
   "outputs": [],
   "source": [
    "\n",
    "planner = Planner()\n",
    "executor = Executor(tools=tools, print_prompt=False)\n",
    "agent = PlanAndExecute(planner=planner, executor=executor, verbose=False)"
   ]
  },
  {
   "cell_type": "code",
   "execution_count": 5,
   "metadata": {},
   "outputs": [
    {
     "name": "stdout",
     "output_type": "stream",
     "text": [
      "------------------------------START------------------------------\n"
     ]
    },
    {
     "ename": "UnboundLocalError",
     "evalue": "local variable 'messages' referenced before assignment",
     "output_type": "error",
     "traceback": [
      "\u001b[0;31m---------------------------------------------------------------------------\u001b[0m",
      "\u001b[0;31mUnboundLocalError\u001b[0m                         Traceback (most recent call last)",
      "Cell \u001b[0;32mIn[5], line 1\u001b[0m\n\u001b[0;32m----> 1\u001b[0m agent\u001b[39m.\u001b[39;49mrun(inputs\u001b[39m=\u001b[39;49m{\u001b[39m\"\u001b[39;49m\u001b[39minput\u001b[39;49m\u001b[39m\"\u001b[39;49m: \u001b[39minput\u001b[39;49m})\n",
      "File \u001b[0;32m~/repos/irepos/agent/agents/planner_executors/planner_executors.py:26\u001b[0m, in \u001b[0;36mPlanAndExecute.run\u001b[0;34m(self, inputs)\u001b[0m\n\u001b[1;32m     20\u001b[0m _new_inputs \u001b[39m=\u001b[39m {\n\u001b[1;32m     21\u001b[0m     \u001b[39m\"\u001b[39m\u001b[39mprevious_steps\u001b[39m\u001b[39m\"\u001b[39m: \u001b[39mself\u001b[39m\u001b[39m.\u001b[39mstep_container,\n\u001b[1;32m     22\u001b[0m     \u001b[39m\"\u001b[39m\u001b[39mcurrent_step\u001b[39m\u001b[39m\"\u001b[39m: step,\n\u001b[1;32m     23\u001b[0m     \u001b[39m\"\u001b[39m\u001b[39mobjective\u001b[39m\u001b[39m\"\u001b[39m: inputs[\u001b[39mself\u001b[39m\u001b[39m.\u001b[39minput_key],\n\u001b[1;32m     24\u001b[0m }\n\u001b[1;32m     25\u001b[0m new_inputs \u001b[39m=\u001b[39m {\u001b[39m*\u001b[39m\u001b[39m*\u001b[39m_new_inputs, \u001b[39m*\u001b[39m\u001b[39m*\u001b[39minputs}\n\u001b[0;32m---> 26\u001b[0m response \u001b[39m=\u001b[39m \u001b[39mself\u001b[39;49m\u001b[39m.\u001b[39;49mexecutor\u001b[39m.\u001b[39;49mstep(new_inputs)\n\u001b[1;32m     27\u001b[0m \u001b[39mself\u001b[39m\u001b[39m.\u001b[39mstep_container\u001b[39m.\u001b[39madd_step(step, response)\n\u001b[1;32m     28\u001b[0m \u001b[39mprint\u001b[39m(\u001b[39mf\u001b[39m\u001b[39m\"\u001b[39m\u001b[39m*****\u001b[39m\u001b[39m\\n\u001b[39;00m\u001b[39m\\n\u001b[39;00m\u001b[39mStep: \u001b[39m\u001b[39m{\u001b[39;00mstep\u001b[39m.\u001b[39mvalue\u001b[39m}\u001b[39;00m\u001b[39m\"\u001b[39m)\n",
      "File \u001b[0;32m~/repos/irepos/agent/agents/planner_executors/executors.py:41\u001b[0m, in \u001b[0;36mExecutor.step\u001b[0;34m(self, inputs)\u001b[0m\n\u001b[1;32m     37\u001b[0m \u001b[39mdef\u001b[39;00m \u001b[39mstep\u001b[39m(\n\u001b[1;32m     38\u001b[0m     \u001b[39mself\u001b[39m, inputs: \u001b[39mdict\u001b[39m\n\u001b[1;32m     39\u001b[0m ) \u001b[39m-\u001b[39m\u001b[39m>\u001b[39m StepResponse:\n\u001b[1;32m     40\u001b[0m \u001b[39m    \u001b[39m\u001b[39m\"\"\"Take step.\"\"\"\u001b[39;00m\n\u001b[0;32m---> 41\u001b[0m     response \u001b[39m=\u001b[39m \u001b[39mself\u001b[39;49m\u001b[39m.\u001b[39;49magent\u001b[39m.\u001b[39;49mrun(\u001b[39m*\u001b[39;49m\u001b[39m*\u001b[39;49minputs)\n\u001b[1;32m     42\u001b[0m     \u001b[39mreturn\u001b[39;00m StepResponse(response\u001b[39m=\u001b[39mresponse)\n",
      "File \u001b[0;32m~/repos/irepos/agent/agents/structured_chat.py:179\u001b[0m, in \u001b[0;36mStructuredChatAgent.run\u001b[0;34m(self, **kwargs)\u001b[0m\n\u001b[1;32m    177\u001b[0m \u001b[39mself\u001b[39m\u001b[39m.\u001b[39m_track_steps_verbose(kwargs)\n\u001b[1;32m    178\u001b[0m \u001b[39mwhile\u001b[39;00m iterations \u001b[39m<\u001b[39m\u001b[39m=\u001b[39m \u001b[39mself\u001b[39m\u001b[39m.\u001b[39mmax_iterations:\n\u001b[0;32m--> 179\u001b[0m     next_step_outputs \u001b[39m=\u001b[39m \u001b[39mself\u001b[39;49m\u001b[39m.\u001b[39;49m_take_next_step(intermediate_steps, kwargs)\n\u001b[1;32m    180\u001b[0m     next_step_output \u001b[39m=\u001b[39m next_step_outputs[\u001b[39m0\u001b[39m]\n\u001b[1;32m    181\u001b[0m     \u001b[39mself\u001b[39m\u001b[39m.\u001b[39m_track_steps_verbose(next_step_output)\n",
      "File \u001b[0;32m~/repos/irepos/agent/agents/structured_chat.py:190\u001b[0m, in \u001b[0;36mStructuredChatAgent._take_next_step\u001b[0;34m(self, intermediate_steps, inputs)\u001b[0m\n\u001b[1;32m    188\u001b[0m \u001b[39mdef\u001b[39;00m \u001b[39m_take_next_step\u001b[39m(\u001b[39mself\u001b[39m, intermediate_steps, inputs):\n\u001b[1;32m    189\u001b[0m     full_inputs \u001b[39m=\u001b[39m \u001b[39mself\u001b[39m\u001b[39m.\u001b[39mget_full_inputs(intermediate_steps, \u001b[39m*\u001b[39m\u001b[39m*\u001b[39minputs)\n\u001b[0;32m--> 190\u001b[0m     response \u001b[39m=\u001b[39m \u001b[39mself\u001b[39;49m\u001b[39m.\u001b[39;49mchain\u001b[39m.\u001b[39;49mrun(full_inputs)\n\u001b[1;32m    191\u001b[0m     output \u001b[39m=\u001b[39m \u001b[39mself\u001b[39m\u001b[39m.\u001b[39m_output_parse(response)\n\u001b[1;32m    193\u001b[0m     \u001b[39mif\u001b[39;00m (output\u001b[39m.\u001b[39mstate \u001b[39m==\u001b[39m \u001b[39m'\u001b[39m\u001b[39mfinished\u001b[39m\u001b[39m'\u001b[39m):\n",
      "File \u001b[0;32m~/repos/irepos/agent/chains/chain.py:127\u001b[0m, in \u001b[0;36mChain.run\u001b[0;34m(self, inputs)\u001b[0m\n\u001b[1;32m    126\u001b[0m \u001b[39mdef\u001b[39;00m \u001b[39mrun\u001b[39m(\u001b[39mself\u001b[39m, inputs):\n\u001b[0;32m--> 127\u001b[0m     outputs \u001b[39m=\u001b[39m \u001b[39mself\u001b[39;49m\u001b[39m.\u001b[39;49m\u001b[39m__call__\u001b[39;49m(inputs)\n\u001b[1;32m    128\u001b[0m     \u001b[39mreturn\u001b[39;00m outputs[\u001b[39mself\u001b[39m\u001b[39m.\u001b[39moutput_key]\n",
      "File \u001b[0;32m~/repos/irepos/agent/chains/chain.py:119\u001b[0m, in \u001b[0;36mChain.__call__\u001b[0;34m(self, inputs, return_only_outputs)\u001b[0m\n\u001b[1;32m    117\u001b[0m \u001b[39mdef\u001b[39;00m \u001b[39m__call__\u001b[39m(\u001b[39mself\u001b[39m, inputs, return_only_outputs: \u001b[39mbool\u001b[39m \u001b[39m=\u001b[39m \u001b[39mFalse\u001b[39;00m):\n\u001b[1;32m    118\u001b[0m     inputs \u001b[39m=\u001b[39m \u001b[39mself\u001b[39m\u001b[39m.\u001b[39mprep_inputs(inputs)\n\u001b[0;32m--> 119\u001b[0m     responses \u001b[39m=\u001b[39m \u001b[39mself\u001b[39;49m\u001b[39m.\u001b[39;49mgenerate([inputs])\n\u001b[1;32m    120\u001b[0m     outputs \u001b[39m=\u001b[39m \u001b[39mself\u001b[39m\u001b[39m.\u001b[39mcreate_outputs(responses)\n\u001b[1;32m    121\u001b[0m     final_outputs: Dict[\u001b[39mstr\u001b[39m, Any] \u001b[39m=\u001b[39m \u001b[39mself\u001b[39m\u001b[39m.\u001b[39mprep_outputs(\n\u001b[1;32m    122\u001b[0m         inputs, outputs[\u001b[39m0\u001b[39m], return_only_outputs\n\u001b[1;32m    123\u001b[0m     )\n",
      "File \u001b[0;32m~/repos/irepos/agent/chains/chain.py:138\u001b[0m, in \u001b[0;36mChain.generate\u001b[0;34m(self, input_list, **kwargs)\u001b[0m\n\u001b[1;32m    136\u001b[0m \u001b[39mif\u001b[39;00m \u001b[39mself\u001b[39m\u001b[39m.\u001b[39mprint_prompt \u001b[39m==\u001b[39m \u001b[39mTrue\u001b[39;00m:\n\u001b[1;32m    137\u001b[0m     \u001b[39mprint\u001b[39m(\u001b[39m'\u001b[39m\u001b[39m---\u001b[39m\u001b[39m'\u001b[39m\u001b[39m*\u001b[39m\u001b[39m10\u001b[39m\u001b[39m+\u001b[39m\u001b[39m'\u001b[39m\u001b[39mSTART\u001b[39m\u001b[39m'\u001b[39m\u001b[39m+\u001b[39m\u001b[39m'\u001b[39m\u001b[39m---\u001b[39m\u001b[39m'\u001b[39m\u001b[39m*\u001b[39m\u001b[39m10\u001b[39m)\n\u001b[0;32m--> 138\u001b[0m     \u001b[39mprint\u001b[39m(messages[\u001b[39m0\u001b[39m])\n\u001b[1;32m    139\u001b[0m     \u001b[39mprint\u001b[39m(\u001b[39m'\u001b[39m\u001b[39m---\u001b[39m\u001b[39m'\u001b[39m\u001b[39m*\u001b[39m\u001b[39m10\u001b[39m\u001b[39m+\u001b[39m\u001b[39m'\u001b[39m\u001b[39mDIVIDER\u001b[39m\u001b[39m'\u001b[39m\u001b[39m+\u001b[39m\u001b[39m'\u001b[39m\u001b[39m---\u001b[39m\u001b[39m'\u001b[39m\u001b[39m*\u001b[39m\u001b[39m10\u001b[39m)\n\u001b[1;32m    140\u001b[0m     \u001b[39mprint\u001b[39m(messages[\u001b[39m1\u001b[39m])\n",
      "\u001b[0;31mUnboundLocalError\u001b[0m: local variable 'messages' referenced before assignment"
     ]
    }
   ],
   "source": [
    "agent.run(inputs={\"input\": input})"
   ]
  }
 ],
 "metadata": {
  "kernelspec": {
   "display_name": "langchain",
   "language": "python",
   "name": "python3"
  },
  "language_info": {
   "codemirror_mode": {
    "name": "ipython",
    "version": 3
   },
   "file_extension": ".py",
   "mimetype": "text/x-python",
   "name": "python",
   "nbconvert_exporter": "python",
   "pygments_lexer": "ipython3",
   "version": "3.9.16"
  },
  "orig_nbformat": 4
 },
 "nbformat": 4,
 "nbformat_minor": 2
}
