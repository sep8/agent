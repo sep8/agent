{
 "cells": [
  {
   "cell_type": "code",
   "execution_count": 1,
   "metadata": {},
   "outputs": [],
   "source": [
    "from agents.planner_executors.planner import Planner"
   ]
  },
  {
   "cell_type": "code",
   "execution_count": 2,
   "metadata": {},
   "outputs": [],
   "source": [
    "planner = Planner()"
   ]
  },
  {
   "cell_type": "code",
   "execution_count": 4,
   "metadata": {},
   "outputs": [
    {
     "ename": "AttributeError",
     "evalue": "'list' object has no attribute 'generations'",
     "output_type": "error",
     "traceback": [
      "\u001b[0;31m---------------------------------------------------------------------------\u001b[0m",
      "\u001b[0;31mAttributeError\u001b[0m                            Traceback (most recent call last)",
      "Cell \u001b[0;32mIn[4], line 1\u001b[0m\n\u001b[0;32m----> 1\u001b[0m planner\u001b[39m.\u001b[39;49mplan(inputs\u001b[39m=\u001b[39;49m{\u001b[39m'\u001b[39;49m\u001b[39minput\u001b[39;49m\u001b[39m'\u001b[39;49m: \u001b[39m'\u001b[39;49m\u001b[39mHow to put an elephant in a refrigerator\u001b[39;49m\u001b[39m'\u001b[39;49m})\n",
      "File \u001b[0;32m~/repos/irepos/agent/agents/planner_executors/planner.py:44\u001b[0m, in \u001b[0;36mPlanner.plan\u001b[0;34m(self, inputs)\u001b[0m\n\u001b[1;32m     42\u001b[0m \u001b[39mdef\u001b[39;00m \u001b[39mplan\u001b[39m(\u001b[39mself\u001b[39m, inputs: \u001b[39mdict\u001b[39m) \u001b[39m-\u001b[39m\u001b[39m>\u001b[39m Plan:\n\u001b[1;32m     43\u001b[0m \u001b[39m    \u001b[39m\u001b[39m\"\"\"Given input, decide what to do.\"\"\"\u001b[39;00m\n\u001b[0;32m---> 44\u001b[0m     response \u001b[39m=\u001b[39m \u001b[39mself\u001b[39;49m\u001b[39m.\u001b[39;49mchain(inputs)\n\u001b[1;32m     45\u001b[0m     \u001b[39mreturn\u001b[39;00m \u001b[39mself\u001b[39m\u001b[39m.\u001b[39moutput_parser\u001b[39m.\u001b[39mparse(response)\n",
      "File \u001b[0;32m~/repos/irepos/agent/chains/chain.py:76\u001b[0m, in \u001b[0;36mChain.__call__\u001b[0;34m(self, inputs)\u001b[0m\n\u001b[1;32m     74\u001b[0m inputs \u001b[39m=\u001b[39m \u001b[39mself\u001b[39m\u001b[39m.\u001b[39mprep_inputs(inputs)\n\u001b[1;32m     75\u001b[0m response \u001b[39m=\u001b[39m \u001b[39mself\u001b[39m\u001b[39m.\u001b[39mgenerate([inputs])\n\u001b[0;32m---> 76\u001b[0m \u001b[39mreturn\u001b[39;00m \u001b[39mself\u001b[39;49m\u001b[39m.\u001b[39;49mcreate_outputs(response)[\u001b[39m0\u001b[39m]\n",
      "File \u001b[0;32m~/repos/irepos/agent/chains/chain.py:67\u001b[0m, in \u001b[0;36mChain.create_outputs\u001b[0;34m(self, llm_result)\u001b[0m\n\u001b[1;32m     59\u001b[0m \u001b[39mdef\u001b[39;00m \u001b[39mcreate_outputs\u001b[39m(\u001b[39mself\u001b[39m, llm_result: Dict[\u001b[39mstr\u001b[39m, Any]) \u001b[39m-\u001b[39m\u001b[39m>\u001b[39m List[Dict[\u001b[39mstr\u001b[39m, Any]]:\n\u001b[1;32m     60\u001b[0m \u001b[39m    \u001b[39m\u001b[39m\"\"\"Create outputs from response.\"\"\"\u001b[39;00m\n\u001b[1;32m     61\u001b[0m     result \u001b[39m=\u001b[39m [\n\u001b[1;32m     62\u001b[0m         \u001b[39m# Get the text of the top generated string.\u001b[39;00m\n\u001b[1;32m     63\u001b[0m         {\n\u001b[1;32m     64\u001b[0m             \u001b[39mself\u001b[39m\u001b[39m.\u001b[39moutput_key: \u001b[39mself\u001b[39m\u001b[39m.\u001b[39moutput_parser\u001b[39m.\u001b[39mparse_result(generation),\n\u001b[1;32m     65\u001b[0m             \u001b[39m\"\u001b[39m\u001b[39mfull_generation\u001b[39m\u001b[39m\"\u001b[39m: generation,\n\u001b[1;32m     66\u001b[0m         }\n\u001b[0;32m---> 67\u001b[0m         \u001b[39mfor\u001b[39;00m generation \u001b[39min\u001b[39;00m llm_result\u001b[39m.\u001b[39;49mgenerations\n\u001b[1;32m     68\u001b[0m     ]\n\u001b[1;32m     69\u001b[0m     \u001b[39mif\u001b[39;00m \u001b[39mself\u001b[39m\u001b[39m.\u001b[39mreturn_final_only:\n\u001b[1;32m     70\u001b[0m         result \u001b[39m=\u001b[39m [{\u001b[39mself\u001b[39m\u001b[39m.\u001b[39moutput_key: r[\u001b[39mself\u001b[39m\u001b[39m.\u001b[39moutput_key]} \u001b[39mfor\u001b[39;00m r \u001b[39min\u001b[39;00m result]\n",
      "\u001b[0;31mAttributeError\u001b[0m: 'list' object has no attribute 'generations'"
     ]
    }
   ],
   "source": [
    "planner.plan(inputs={'input': 'How to put an elephant in a refrigerator'})"
   ]
  },
  {
   "cell_type": "code",
   "execution_count": null,
   "metadata": {},
   "outputs": [],
   "source": []
  }
 ],
 "metadata": {
  "kernelspec": {
   "display_name": "langchain",
   "language": "python",
   "name": "python3"
  },
  "language_info": {
   "codemirror_mode": {
    "name": "ipython",
    "version": 3
   },
   "file_extension": ".py",
   "mimetype": "text/x-python",
   "name": "python",
   "nbconvert_exporter": "python",
   "pygments_lexer": "ipython3",
   "version": "3.9.16"
  },
  "orig_nbformat": 4
 },
 "nbformat": 4,
 "nbformat_minor": 2
}
