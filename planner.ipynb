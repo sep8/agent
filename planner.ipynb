{
 "cells": [
  {
   "cell_type": "code",
   "execution_count": 1,
   "metadata": {},
   "outputs": [
    {
     "data": {
      "text/plain": [
       "True"
      ]
     },
     "execution_count": 1,
     "metadata": {},
     "output_type": "execute_result"
    }
   ],
   "source": [
    "import re\n",
    "from models.chat_model import ChatModel\n",
    "from agents.planner import Planner\n",
    "from dotenv import load_dotenv\n",
    "load_dotenv()\n"
   ]
  },
  {
   "cell_type": "code",
   "execution_count": 2,
   "metadata": {},
   "outputs": [],
   "source": [
    "input=\"how to improve spoken english?\"\n",
    "stop=[\"<END_OF_PLAN>\"]"
   ]
  },
  {
   "cell_type": "code",
   "execution_count": 3,
   "metadata": {},
   "outputs": [],
   "source": [
    "model = ChatModel()\n",
    "planner = Planner(model=model, stop=stop)"
   ]
  },
  {
   "cell_type": "code",
   "execution_count": 4,
   "metadata": {},
   "outputs": [
    {
     "data": {
      "text/plain": [
       "\"1. Identify areas of improvement: Assess your current level of spoken English and identify specific areas that need improvement, such as pronunciation, vocabulary, grammar, or fluency.\\n2. Practice regularly: Dedicate regular time to practice speaking in English. This can be done through conversations with native English speakers, language exchange programs, or by joining English speaking clubs or classes.\\n3. Listen to native English speakers: Improve your listening skills by regularly listening to native English speakers. This can be done through watching movies, TV shows, or listening to podcasts or audiobooks in English.\\n4. Expand vocabulary: Work on expanding your vocabulary by learning new words and phrases. Read English books, newspapers, or online articles, and make a note of unfamiliar words. Use flashcards or vocabulary apps to practice and review new words regularly.\\n5. Focus on pronunciation: Pay attention to the correct pronunciation of words and practice speaking them aloud. Listen to native speakers and imitate their pronunciation. Consider using pronunciation apps or online resources to help improve your pronunciation.\\n6. Seek feedback: Ask for feedback from native English speakers or language teachers to identify areas for improvement. Take note of their suggestions and work on incorporating them into your spoken English.\\n7. Record and review: Record yourself speaking in English and listen to the recordings. Identify areas where you can improve, such as clarity, fluency, or grammar mistakes. Make a note of these areas and work on them.\\n8. Be confident and practice speaking: Overcome any fear or hesitation of speaking in English by practicing regularly and building confidence. Engage in conversations with others, even if you make mistakes. The more you practice, the more comfortable and fluent you will become.\\n9. Use online resources: Utilize online resources such as language learning websites, apps, or YouTube channels that provide exercises, tutorials, and practice materials specifically designed to improve spoken English.\\n10. Set goals and track progress: Set specific goals for improving your spoken English and track your progress regularly. Celebrate small achievements along the way to stay motivated.\\n11. Given the above steps taken, please respond to the user's original question.\""
      ]
     },
     "execution_count": 4,
     "metadata": {},
     "output_type": "execute_result"
    }
   ],
   "source": [
    "planner.plan({\"input\": input})"
   ]
  },
  {
   "cell_type": "code",
   "execution_count": null,
   "metadata": {},
   "outputs": [],
   "source": []
  }
 ],
 "metadata": {
  "kernelspec": {
   "display_name": "chatbot",
   "language": "python",
   "name": "python3"
  },
  "language_info": {
   "codemirror_mode": {
    "name": "ipython",
    "version": 3
   },
   "file_extension": ".py",
   "mimetype": "text/x-python",
   "name": "python",
   "nbconvert_exporter": "python",
   "pygments_lexer": "ipython3",
   "version": "3.9.16"
  },
  "orig_nbformat": 4
 },
 "nbformat": 4,
 "nbformat_minor": 2
}
