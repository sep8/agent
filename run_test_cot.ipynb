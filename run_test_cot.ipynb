{
 "cells": [
  {
   "cell_type": "code",
   "execution_count": 2,
   "metadata": {},
   "outputs": [],
   "source": [
    "from models.text_model import TextModel\n",
    "from models.chat_model import ChatModel\n",
    "import setup_env"
   ]
  },
  {
   "cell_type": "code",
   "execution_count": 3,
   "metadata": {},
   "outputs": [],
   "source": [
    "completion = TextModel(model_name='text-davinci-003')\n",
    "chat = ChatModel(model_name='gpt-3.5-turbo')\n"
   ]
  },
  {
   "cell_type": "markdown",
   "metadata": {},
   "source": [
    "##### I went to the market and bought 10 apples"
   ]
  },
  {
   "cell_type": "code",
   "execution_count": 3,
   "metadata": {},
   "outputs": [
    {
     "name": "stdout",
     "output_type": "stream",
     "text": [
      "\n",
      "A: You would remain with 12 apples.\n"
     ]
    }
   ],
   "source": [
    "prompt = \"\"\"Q: I went to the market and bought 10 apples. I gave 2 apples to the neighbor and 2 to the repairman. I then went and bought 5 more apples and ate 1. How many apples did I remain with?\n",
    "\"\"\"\n",
    "\n",
    "response = completion(prompt=prompt)\n",
    "print(response.generations[0])"
   ]
  },
  {
   "cell_type": "code",
   "execution_count": null,
   "metadata": {},
   "outputs": [],
   "source": [
    "prompt = \"\"\"Q: I went to the market and bought 10 apples. I gave 2 apples to the neighbor and 2 to the repairman. I then went and bought 5 more apples and ate 1. How many apples did I remain with? Let's think step by step.\n",
    "\"\"\"\n",
    "\n",
    "response = completion(prompt=prompt)\n",
    "print(response.generations[0])"
   ]
  },
  {
   "cell_type": "code",
   "execution_count": null,
   "metadata": {},
   "outputs": [],
   "source": [
    "prompt = \"\"\"\n",
    "Q: Roger has 5 tennis balls. He buys 2 more cans of tennis balls. Each can has 3 tennis balls. How many tennis balls does he have now?\n",
    "A: The answer is 11.\n",
    "Q: I went to the market and bought 10 apples. I gave 2 apples to the neighbor and 2 to the repairman. I then went and bought 5 more apples and ate 1. How many apples did I remain with?\n",
    "A:\n",
    "\"\"\"\n",
    "response = completion(prompt=prompt)\n",
    "print(response.generations[0])"
   ]
  },
  {
   "cell_type": "code",
   "execution_count": null,
   "metadata": {},
   "outputs": [],
   "source": [
    "prompt = \"\"\"\n",
    "Q: Roger has 5 tennis balls. He buys 2 more cans of tennis balls. Each can has 3 tennis balls. How many tennis balls does he have now?\n",
    "A: Roger started with 5 balls. 2 cans of 3 tennis balls each is 6 tennis balls, 5 + 6 = 11. The answer is 11.\n",
    "Q: I went to the market and bought 10 apples. I gave 2 apples to the neighbor and 2 to the repairman. I then went and bought 5 more apples and ate 1. How many apples did I remain with?\n",
    "A:\n",
    "\"\"\"\n",
    "response = completion(prompt=prompt)\n",
    "print(response.generations[0])"
   ]
  },
  {
   "cell_type": "code",
   "execution_count": 4,
   "metadata": {},
   "outputs": [
    {
     "name": "stdout",
     "output_type": "stream",
     "text": [
      "You started with 10 apples. You gave 2 to the neighbor and 2 to the repairman, so you have 10 - 2 - 2 = 6 apples left. \n",
      "Then you bought 5 more apples, so you have 6 + 5 = 11 apples. \n",
      "Finally, you ate 1 apple, so you have 11 - 1 = 10 apples remaining.\n"
     ]
    }
   ],
   "source": [
    "question = \"\"\"\n",
    "Q: I went to the market and bought 10 apples. I gave 2 apples to the neighbor and 2 to the repairman. I then went and bought 5 more apples and ate 1. How many apples did I remain with?\n",
    "A:\n",
    "\"\"\"\n",
    "messages = [{\n",
    "    'role': 'user',\n",
    "    'content': question\n",
    "}]\n",
    "response = chat(messages=messages)\n",
    "print(response.generations[0].text)"
   ]
  },
  {
   "cell_type": "markdown",
   "metadata": {},
   "source": [
    "##### A juggler can juggle 16 balls."
   ]
  },
  {
   "cell_type": "code",
   "execution_count": 5,
   "metadata": {},
   "outputs": [
    {
     "name": "stdout",
     "output_type": "stream",
     "text": [
      "\n",
      "A: 8 blue golf balls.\n"
     ]
    }
   ],
   "source": [
    "prompt = \"\"\"Q: A juggler can juggle 16 balls. Half of the balls are golf balls, and half of the golf balls are blue. How many blue golf balls are there?\n",
    "\"\"\"\n",
    "\n",
    "response = completion(prompt=prompt)\n",
    "print(response.generations[0])"
   ]
  },
  {
   "cell_type": "code",
   "execution_count": 6,
   "metadata": {},
   "outputs": [
    {
     "name": "stdout",
     "output_type": "stream",
     "text": [
      "\n",
      "Step 1: There are 16 balls in total.\n",
      "\n",
      "Step 2: Half of the balls are golf balls, so there are 8 golf balls.\n",
      "\n",
      "Step 3: Half of the 8 golf balls are blue, so there are 4 blue golf balls.\n"
     ]
    }
   ],
   "source": [
    "prompt = \"\"\"Q: A juggler can juggle 16 balls. Half of the balls are golf balls, and half of the golf balls are blue. How many blue golf balls are there? Let's think step by step.\n",
    "\"\"\"\n",
    "\n",
    "response = completion(prompt=prompt)\n",
    "print(response.generations[0])"
   ]
  },
  {
   "cell_type": "code",
   "execution_count": 7,
   "metadata": {},
   "outputs": [
    {
     "name": "stdout",
     "output_type": "stream",
     "text": [
      "The answer is 8.\n"
     ]
    }
   ],
   "source": [
    "prompt = \"\"\"\n",
    "Q: Roger has 5 tennis balls. He buys 2 more cans of tennis balls. Each can has 3 tennis balls. How many tennis balls does he have now?\n",
    "A: The answer is 11.\n",
    "Q: A juggler can juggle 16 balls. Half of the balls are golf balls, and half of the golf balls are blue. How many blue golf balls are there?\n",
    "A:\n",
    "\"\"\"\n",
    "\n",
    "response = completion(prompt=prompt)\n",
    "print(response.generations[0])"
   ]
  },
  {
   "cell_type": "code",
   "execution_count": 8,
   "metadata": {},
   "outputs": [
    {
     "name": "stdout",
     "output_type": "stream",
     "text": [
      "There are 8 golf balls in total (half of 16). Half of 8 is 4, so there are 4 blue golf balls.\n"
     ]
    }
   ],
   "source": [
    "prompt = \"\"\"\n",
    "Q: Roger has 5 tennis balls. He buys 2 more cans of tennis balls. Each can has 3 tennis balls. How many tennis balls does he have now?\n",
    "A: Roger started with 5 balls. 2 cans of 3 tennis balls each is 6 tennis balls, 5 + 6 = 11. The answer is 11.\n",
    "Q: A juggler can juggle 16 balls. Half of the balls are golf balls, and half of the golf balls are blue. How many blue golf balls are there?\n",
    "A:\n",
    "\"\"\"\n",
    "\n",
    "response = completion(prompt=prompt)\n",
    "print(response.generations[0])"
   ]
  },
  {
   "cell_type": "markdown",
   "metadata": {},
   "source": [
    "##### The cafeteria had 23 apples."
   ]
  },
  {
   "cell_type": "code",
   "execution_count": 17,
   "metadata": {},
   "outputs": [
    {
     "name": "stdout",
     "output_type": "stream",
     "text": [
      "\n",
      "A: 27 apples\n"
     ]
    }
   ],
   "source": [
    "prompt = \"\"\"Q: The cafeteria had 21 apples. If they used 10 to make lunch and bought 6 more, how many apples do they have?\n",
    "\"\"\"\n",
    "\n",
    "response = completion(prompt=prompt)\n",
    "print(response.generations[0])"
   ]
  },
  {
   "cell_type": "code",
   "execution_count": 21,
   "metadata": {},
   "outputs": [
    {
     "name": "stdout",
     "output_type": "stream",
     "text": [
      "\n",
      "Step 1: Start with the given information. We know that the cafeteria had 21 apples.\n",
      "\n",
      "Step 2: Subtract 10 apples from 21 apples to find out how many apples were left after they used 10 to make lunch.\n",
      "\n",
      "21 apples - 10 apples = 11 apples\n",
      "\n",
      "Step 3: Add 6 apples to the 11 apples to find out how many apples they have now.\n",
      "\n",
      "11 apples + 6 apples = 17 apples\n",
      "\n",
      "Answer: The cafeteria has 17 apples.\n"
     ]
    }
   ],
   "source": [
    "prompt = \"\"\"Q: The cafeteria had 21 apples. If they used 10 to make lunch and bought 6 more, how many apples do they have? Let's think step by step.\n",
    "\"\"\"\n",
    "\n",
    "response = completion(prompt=prompt)\n",
    "print(response.generations[0])"
   ]
  },
  {
   "cell_type": "code",
   "execution_count": 19,
   "metadata": {},
   "outputs": [
    {
     "name": "stdout",
     "output_type": "stream",
     "text": [
      "The answer is 27 apples.\n"
     ]
    }
   ],
   "source": [
    "prompt = \"\"\"\n",
    "Q: Roger has 5 tennis balls. He buys 2 more cans of tennis balls. Each can has 3 tennis balls. How many tennis balls does he have now?\n",
    "A: The answer is 11.\n",
    "Q: The cafeteria had 21 apples. If they used 10 to make lunch and bought 6 more, how many apples do they have?\n",
    "\"\"\"\n",
    "\n",
    "response = completion(prompt=prompt)\n",
    "print(response.generations[0])"
   ]
  },
  {
   "cell_type": "code",
   "execution_count": 20,
   "metadata": {},
   "outputs": [
    {
     "name": "stdout",
     "output_type": "stream",
     "text": [
      "The cafeteria started with 21 apples. 10 were used to make lunch, leaving 11 apples. 6 more were bought, so 11 + 6 = 17. The answer is 17 apples.\n"
     ]
    }
   ],
   "source": [
    "prompt = \"\"\"\n",
    "Q: Roger has 5 tennis balls. He buys 2 more cans of tennis balls. Each can has 3 tennis balls. How many tennis balls does he have now?\n",
    "A: Roger started with 5 balls. 2 cans of 3 tennis balls each is 6 tennis balls, 5 + 6 = 11. The answer is 11.\n",
    "Q: The cafeteria had 21 apples. If they used 10 to make lunch and bought 6 more, how many apples do they have?\n",
    "\"\"\"\n",
    "\n",
    "response = completion(prompt=prompt)\n",
    "print(response.generations[0])"
   ]
  },
  {
   "cell_type": "code",
   "execution_count": null,
   "metadata": {},
   "outputs": [],
   "source": []
  }
 ],
 "metadata": {
  "kernelspec": {
   "display_name": "agent",
   "language": "python",
   "name": "python3"
  },
  "language_info": {
   "codemirror_mode": {
    "name": "ipython",
    "version": 3
   },
   "file_extension": ".py",
   "mimetype": "text/x-python",
   "name": "python",
   "nbconvert_exporter": "python",
   "pygments_lexer": "ipython3",
   "version": "3.9.16"
  },
  "orig_nbformat": 4
 },
 "nbformat": 4,
 "nbformat_minor": 2
}
