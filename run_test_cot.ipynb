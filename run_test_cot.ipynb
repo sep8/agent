{
 "cells": [
  {
   "cell_type": "code",
   "execution_count": 33,
   "metadata": {},
   "outputs": [],
   "source": [
    "from models.text_model import TextModel\n",
    "from models.chat_model import ChatModel\n",
    "import setup_env"
   ]
  },
  {
   "cell_type": "code",
   "execution_count": 23,
   "metadata": {},
   "outputs": [],
   "source": [
    "prompt = \"\"\"\n",
    "Q: I went to the market and bought 10 apples.\n",
    "I gave 2 apples to the neighbor and 2 to the repairman.\n",
    "I then went and bought 5 more apples and ate 1.\n",
    "How many apples did I remain with?\n",
    "\"\"\""
   ]
  },
  {
   "cell_type": "code",
   "execution_count": 24,
   "metadata": {},
   "outputs": [],
   "source": [
    "completion = TextModel(model_name='text-davinci-003')"
   ]
  },
  {
   "cell_type": "code",
   "execution_count": 25,
   "metadata": {},
   "outputs": [
    {
     "name": "stdout",
     "output_type": "stream",
     "text": [
      "\n",
      "A: 11 apples.\n"
     ]
    }
   ],
   "source": [
    "response = completion(prompt=prompt)\n",
    "print(response.generations[0])"
   ]
  },
  {
   "cell_type": "code",
   "execution_count": 26,
   "metadata": {},
   "outputs": [],
   "source": [
    "prompt = \"\"\"\n",
    "Q: I went to the market and bought 10 apples.\n",
    "I gave 2 apples to the neighbor and 2 to the repairman.\n",
    "I then went and bought 5 more apples and ate 1.\n",
    "How many apples did I remain with?\n",
    "Let's think step by step.\n",
    "\"\"\""
   ]
  },
  {
   "cell_type": "code",
   "execution_count": 27,
   "metadata": {},
   "outputs": [
    {
     "name": "stdout",
     "output_type": "stream",
     "text": [
      "\n",
      "Initially, you had 10 apples.\n",
      "You gave 2 apples to the neighbor and 2 to the repairman, so you had 6 apples left.\n",
      "Then, you bought 5 more apples, so you had 11 apples.\n",
      "Finally, you ate 1 apple, so you had 10 apples left.\n"
     ]
    }
   ],
   "source": [
    "response = completion(prompt=prompt)\n",
    "print(response.generations[0])"
   ]
  },
  {
   "cell_type": "code",
   "execution_count": 28,
   "metadata": {},
   "outputs": [],
   "source": [
    "prompt = \"\"\"\n",
    "Q: Roger has 5 tennis balls. He buys 2 more cans of tennis balls. Each can has 3 tennis balls. How many tennis balls does he have now?\n",
    "A: The answer is 11.\n",
    "Q: A juggler can juggle 16 balls. Half of the balls are golf balls, and half of the golf balls are blue. How many blue golf balls are there?\n",
    "A:\n",
    "\"\"\""
   ]
  },
  {
   "cell_type": "code",
   "execution_count": 29,
   "metadata": {},
   "outputs": [
    {
     "name": "stdout",
     "output_type": "stream",
     "text": [
      "The answer is 8.\n"
     ]
    }
   ],
   "source": [
    "response = completion(prompt=prompt)\n",
    "print(response.generations[0])"
   ]
  },
  {
   "cell_type": "code",
   "execution_count": 30,
   "metadata": {},
   "outputs": [],
   "source": [
    "prompt = \"\"\"\n",
    "Q: Roger has 5 tennis balls. He buys 2 more cans of tennis balls. Each can has 3 tennis balls. How many tennis balls does he have now?\n",
    "A: Roger started with 5 balls. 2 cans of 3 tennis balls each is 6 tennis balls, 5 + 6 = 11. The answer is 11.\n",
    "Q: A juggler can juggle 16 balls. Half of the balls are golf balls, and half of the golf balls are blue. How many blue golf balls are there?\n",
    "A:\n",
    "\"\"\""
   ]
  },
  {
   "cell_type": "code",
   "execution_count": 31,
   "metadata": {},
   "outputs": [
    {
     "name": "stdout",
     "output_type": "stream",
     "text": [
      "There are 8 golf balls total (half of 16). Half of 8 is 4, so there are 4 blue golf balls.\n"
     ]
    }
   ],
   "source": [
    "response = completion(prompt=prompt)\n",
    "print(response.generations[0])"
   ]
  },
  {
   "cell_type": "code",
   "execution_count": 34,
   "metadata": {},
   "outputs": [],
   "source": [
    "chat = ChatModel(model_name='gpt-3.5-turbo')"
   ]
  },
  {
   "cell_type": "code",
   "execution_count": 40,
   "metadata": {},
   "outputs": [],
   "source": [
    "question = \"Question: Were Bob and Alice of the same nationality?\"\n",
    "messages = [{\n",
    "    'role': 'user',\n",
    "    'content': question\n",
    "}]"
   ]
  },
  {
   "cell_type": "code",
   "execution_count": 41,
   "metadata": {},
   "outputs": [
    {
     "name": "stdout",
     "output_type": "stream",
     "text": [
      "The question does not provide any information about Bob and Alice's nationality, so it is impossible to determine whether they are of the same nationality or not.\n"
     ]
    }
   ],
   "source": [
    "response = chat(messages=messages)\n",
    "print(response.generations[0].text)"
   ]
  },
  {
   "cell_type": "code",
   "execution_count": 51,
   "metadata": {},
   "outputs": [
    {
     "name": "stdout",
     "output_type": "stream",
     "text": [
      "1. Check the current location: To determine the weather, we need to know the specific location for which we want to check the weather.\n",
      "\n",
      "2. Use a weather forecasting service: There are various weather forecasting services available online or through mobile apps. Choose a reliable source and access their website or app.\n",
      "\n",
      "3. Enter the location: Input the specific location for which you want to know the weather. This can be done by typing the city name or using the GPS feature to automatically detect your current location.\n",
      "\n",
      "4. View the weather information: Once you have entered the location, the weather service will provide you with the current weather conditions. This may include temperature, humidity, wind speed, precipitation, and other relevant details.\n",
      "\n",
      "5. Interpret the weather information: Based on the provided data, you can determine the current weather conditions. For example, if the temperature is high and there is no mention of rain, it may be a sunny day. If the temperature is low and there is a chance of precipitation, it may be a cloudy or rainy day.\n",
      "\n",
      "6. Additional information: Some weather services also provide extended forecasts, hourly forecasts, radar images, and other useful information. You can explore these options to get a more detailed understanding of the weather.\n",
      "\n",
      "Remember that weather conditions can change rapidly, so it's always a good idea to check the weather forecast periodically throughout the day for the most up-to-date information.\n"
     ]
    }
   ],
   "source": [
    "question = \"\"\"\n",
    "Question: How's the weather today?\n",
    "\"\"\"\n",
    "messages = [{\n",
    "    'role': 'user',\n",
    "    'content': question\n",
    "}]\n",
    "response = chat(messages=messages)\n",
    "print(response.generations[0].text)"
   ]
  },
  {
   "cell_type": "code",
   "execution_count": 53,
   "metadata": {},
   "outputs": [
    {
     "name": "stdout",
     "output_type": "stream",
     "text": [
      "First, we need to find the number of students who enrolled in contemporary dance. \n",
      "20% of 20 students = (20/100) * 20 = 4 students\n",
      "\n",
      "Next, we need to find the number of students who did not enroll in contemporary dance. \n",
      "20 students - 4 students = 16 students\n",
      "\n",
      "Now, we need to find the number of students who enrolled in jazz dance. \n",
      "25% of 16 students = (25/100) * 16 = 4 students\n",
      "\n",
      "Finally, we can find the number of students who enrolled in hip-hop dance. \n",
      "16 students - 4 students = 12 students\n",
      "\n",
      "To find the percentage of students enrolled in hip-hop dance, we divide the number of students enrolled in hip-hop dance by the total number of students and multiply by 100. \n",
      "(12/20) * 100 = 60%\n",
      "\n",
      "Therefore, 60% of the entire students enrolled in hip-hop dance.\n"
     ]
    }
   ],
   "source": [
    "prompt = \"\"\"In a dance class of 20 students 20% enrolled in contemporary dance, 25% of the remaining enrolled in jazz dance, and the rest enrolled in hip-hop dance.\n",
    "What percentage of the entire students enrolled in hip-hop dance?\"\"\"\n",
    "\n",
    "messages = [{\n",
    "    'role': 'user',\n",
    "    'content': prompt\n",
    "}]\n",
    "response = chat(messages=messages)\n",
    "print(response.generations[0].text)"
   ]
  },
  {
   "cell_type": "code",
   "execution_count": null,
   "metadata": {},
   "outputs": [],
   "source": []
  }
 ],
 "metadata": {
  "kernelspec": {
   "display_name": "agent",
   "language": "python",
   "name": "python3"
  },
  "language_info": {
   "codemirror_mode": {
    "name": "ipython",
    "version": 3
   },
   "file_extension": ".py",
   "mimetype": "text/x-python",
   "name": "python",
   "nbconvert_exporter": "python",
   "pygments_lexer": "ipython3",
   "version": "3.9.16"
  },
  "orig_nbformat": 4
 },
 "nbformat": 4,
 "nbformat_minor": 2
}
