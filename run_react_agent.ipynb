{
 "cells": [
  {
   "cell_type": "code",
   "execution_count": 1,
   "metadata": {},
   "outputs": [],
   "source": [
    "from agents.react.zero_shot_agent import ZeroShotAgent\n",
    "from tools.base import Tool\n",
    "from langchain.tools import WikipediaQueryRun\n",
    "from langchain.utilities import WikipediaAPIWrapper\n",
    "from pydantic import BaseModel, Field\n",
    "import setup_env"
   ]
  },
  {
   "cell_type": "code",
   "execution_count": 5,
   "metadata": {},
   "outputs": [],
   "source": [
    "wikipedia = WikipediaQueryRun(api_wrapper=WikipediaAPIWrapper(top_k_results=1, doc_content_chars_max=250))\n",
    "tools = [wikipedia]"
   ]
  },
  {
   "cell_type": "code",
   "execution_count": 4,
   "metadata": {},
   "outputs": [],
   "source": [
    "input = 'Were Scott Derrickson and Ed Wood of the same nationality?'\n",
    "agent = ZeroShotAgent(tools=tools, verbose=False, print_prompt=True)"
   ]
  },
  {
   "cell_type": "code",
   "execution_count": 6,
   "metadata": {},
   "outputs": [
    {
     "name": "stderr",
     "output_type": "stream",
     "text": [
      "Answer the following questions as best you can. You have access to the following tools:\n",
      "\n",
      "Wikipedia: A wrapper around Wikipedia. Useful for when you need to answer general questions about people, places, companies, facts, historical events, or other subjects. Input should be a search query.\n",
      "\n",
      "Use the following format:\n",
      "\n",
      "Question: the input question you must answer\n",
      "Thought: you should always think about what to do\n",
      "Action: the action to take, should be one of [Wikipedia]\n",
      "Action Input: the input to the action\n",
      "Observation: the result of the action\n",
      "... (this Thought/Action/Action Input/Observation can repeat N times)\n",
      "Thought: I now know the final answer\n",
      "Final Answer: the final answer to the original input question\n",
      "\n",
      "Begin!\n",
      "\n",
      "Question: Were Scott Derrickson and Ed Wood of the same nationality?\n",
      "Thought:This was your previous work (but I haven't seen any of it! I only see what you return as final answer):\n",
      "I'm not sure about the nationalities of Scott Derrickson and Ed Wood. I should use Wikipedia to find this information.\n",
      "Action: Wikipedia\n",
      "Action Input: \"Scott Derrickson\"\n",
      "Observation: Page: Scott Derrickson\n",
      "Summary: Scott Derrickson (born July 16, 1966) is an American filmmaker. He is best known for directing the films The Exorcism of Emily Rose (2005), Sinister (2012), Doctor Stra\n",
      "Thought:\u001b[42m\u001b[30mI have found information about Scott Derrickson on Wikipedia, but I still need to find information about Ed Wood's nationality.\n",
      "Action: Wikipedia\n",
      "Action Input: \"Ed Wood\"\n",
      "Observation: Page: Ed Wood\n",
      "Summary: Edward Davis Wood Jr.  (October 10, 1924 – December 10, 1978) was an American filmmaker, \n",
      "actor, and pulp novel author.\n",
      "In the 1950s, Wood directed several low-budget science fi\n",
      "Thought:\u001b[0m\u001b[42m\u001b[0m"
     ]
    },
    {
     "data": {
      "text/plain": [
       "'Scott Derrickson and Ed Wood were both of American nationality.'"
      ]
     },
     "execution_count": 6,
     "metadata": {},
     "output_type": "execute_result"
    }
   ],
   "source": [
    "agent.run(input=input)"
   ]
  },
  {
   "cell_type": "code",
   "execution_count": null,
   "metadata": {},
   "outputs": [],
   "source": []
  }
 ],
 "metadata": {
  "kernelspec": {
   "display_name": "chatbot",
   "language": "python",
   "name": "python3"
  },
  "language_info": {
   "codemirror_mode": {
    "name": "ipython",
    "version": 3
   },
   "file_extension": ".py",
   "mimetype": "text/x-python",
   "name": "python",
   "nbconvert_exporter": "python",
   "pygments_lexer": "ipython3",
   "version": "3.9.16"
  },
  "orig_nbformat": 4
 },
 "nbformat": 4,
 "nbformat_minor": 2
}
